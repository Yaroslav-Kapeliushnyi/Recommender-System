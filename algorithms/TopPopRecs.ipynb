{
 "cells": [
  {
   "cell_type": "markdown",
   "id": "b6abdf32",
   "metadata": {},
   "source": [
    "Task: Recommend 10 unseen songs for every users\n",
    "Goal: maximize nDCG\n",
    "Data: user info\n",
    "      item info\n",
    "      user interactions with items(test + train)\n",
    "      item embeddings\n",
    "Submit: report.txt + codes.zip + recommendations.tsv\n",
    "TODO: create train-test-val data splits\n",
    "      setup nDCG evaluation\n",
    "      produce & evaluate random recommendations\n",
    "      produce and evaluate POP recommendations\n",
    "\n",
    "      \n"
   ]
  },
  {
   "cell_type": "code",
   "execution_count": 1,
   "id": "cf7ad78d",
   "metadata": {},
   "outputs": [],
   "source": [
    "import pandas as pd\n",
    "import numpy as np\n",
    "from sklearn.metrics.pairwise import cosine_similarity as cosine_similarity\n",
    "from rec import inter_matr_implicit\n",
    "from tqdm import tqdm\n",
    "from typing import Callable, List\n",
    "from sklearn.metrics import ndcg_score\n"
   ]
  },
  {
   "cell_type": "code",
   "execution_count": 2,
   "id": "34f84a8d",
   "metadata": {},
   "outputs": [],
   "source": [
    "def inter_matr_implicit(users: int,\n",
    "                       items: int,\n",
    "                       interactions: pd.DataFrame,\n",
    "                       threshold=1) -> np.ndarray:\n",
    "    \"\"\"\n",
    "    Create an implicit interaction matrix from user-item interactions.\n",
    "    \n",
    "    Parameters:\n",
    "        users: DataFrame containing user information\n",
    "        items: DataFrame containing item information\n",
    "        interactions: DataFrame containing user-item interaction data\n",
    "        threshold: Minimum value for a valid interaction (default: 1)\n",
    "        \n",
    "    Returns:\n",
    "        2D numpy array where rows represent users and columns represent items\n",
    "    \"\"\"\n",
    "    interactions = interactions.copy()\n",
    "\n",
    "    n_users = len(users.index)\n",
    "    n_items = len(items.index)\n",
    "    res = np.zeros([n_users, n_items], dtype=np.int8)\n",
    "\n",
    "    row = interactions['user_id'].to_numpy()\n",
    "    col = interactions[\"item_id\"].to_numpy()\n",
    "\n",
    "    data = interactions['count'].to_numpy()\n",
    "    data[data < threshold] = 0\n",
    "    data[data >= threshold] = 1\n",
    "\n",
    "    res[row, col] = data\n",
    "\n",
    "    return res\n",
    "\n",
    "def get_ndcg_score_sk(df_predictions, test_interaction_matrix: np.ndarray, topK=10) -> float:\n",
    "    \"\"\"\n",
    "    Calculate the NDCG score for recommendation predictions.\n",
    "    \n",
    "    Parameters:\n",
    "        df_predictions: DataFrame containing recommendation predictions\n",
    "        test_interaction_matrix: Ground truth interaction matrix\n",
    "        topK: Number of top recommendations to evaluate (default: 10)\n",
    "        \n",
    "    Returns:\n",
    "        Average NDCG score across all users\n",
    "    \"\"\"\n",
    "    ndcg_avg = 0\n",
    "    \n",
    "    for _, row in df_predictions.iterrows():\n",
    "        g_truth = test_interaction_matrix[row[\"user_id\"]]\n",
    "\n",
    "        predicted_scores = np.zeros(len(g_truth),dtype=np.int8)\n",
    "\n",
    "        predictions = list(map(int, row[\"recs\"].split(\",\")))[:topK]\n",
    "\n",
    "        for j, rec in enumerate(predictions):\n",
    "            predicted_scores[rec] = topK-j\n",
    "\n",
    "        ndcg_avg += ndcg_score(g_truth.reshape(1, -1), predicted_scores.reshape(1, -1), k=topK)\n",
    "\n",
    "    return ndcg_avg/len(df_predictions)\n"
   ]
  },
  {
   "cell_type": "code",
   "execution_count": 3,
   "id": "9fae4fb0",
   "metadata": {},
   "outputs": [
    {
     "name": "stdout",
     "output_type": "stream",
     "text": [
      "Users Data Head:\n",
      "\n",
      "Item Data Head:\n",
      "\n",
      "Training Interactions Head:\n",
      "\n",
      "Testing Interactions Head:\n",
      "\n",
      "Embeddings Head:\n",
      "   item_id         0         1         2         3         4         5  \\\n",
      "0        0  0.221942  0.006455  0.027300  0.091775  0.013135  0.137436   \n",
      "1        1  0.166340  0.000332  0.018895  0.140315  0.002309  0.111743   \n",
      "2        2  0.247896  0.003749  0.034527  0.036859  0.008251  0.115214   \n",
      "3        3  0.229554  0.000968  0.028905  0.027514  0.002186  0.100847   \n",
      "4        4  0.009760  0.000590  0.008925  0.721381  0.000711  0.073143   \n",
      "\n",
      "          6         7         8  ...        40        41        42        43  \\\n",
      "0  0.082835  0.275749  0.126342  ...  0.058063  0.014128  0.000574  0.001193   \n",
      "1  0.102853  0.483104  0.135297  ...  0.191162  0.014372  0.000179  0.000249   \n",
      "2  0.030934  0.609462  0.058102  ...  0.009187  0.005204  0.000456  0.000602   \n",
      "3  0.029319  0.564656  0.080171  ...  0.008916  0.004114  0.000110  0.000287   \n",
      "4  0.454569  0.118651  0.368946  ...  0.008477  0.037650  0.000048  0.000038   \n",
      "\n",
      "         44        45        46        47        48        49  \n",
      "0  0.008678  0.015518  0.067189  0.011285  0.042894  0.002184  \n",
      "1  0.013922  0.028749  0.004988  0.075402  0.139094  0.000260  \n",
      "2  0.004944  0.014993  0.035917  0.049558  0.008655  0.001297  \n",
      "3  0.004957  0.007898  0.061098  0.016166  0.007328  0.000365  \n",
      "4  0.021073  0.060800  0.000364  0.006236  0.010155  0.000324  \n",
      "\n",
      "[5 rows x 51 columns]\n"
     ]
    }
   ],
   "source": [
    "def read(dataset, file):\n",
    "    return pd.read_csv(dataset + '/' + dataset + '.' + file, sep='\\t')\n",
    "\n",
    "# Load User Data\n",
    "users = read('lfm-challenge', 'user')\n",
    "print(\"Users Data Head:\")\n",
    "#print(users.head())\n",
    "\n",
    "# Load Item Data\n",
    "items = read('lfm-challenge', 'item')\n",
    "print(\"\\nItem Data Head:\")\n",
    "#print(items.head())\n",
    "\n",
    "# Load Training Interactions\n",
    "train_inters = read('lfm-challenge', 'inter_train')\n",
    "print(\"\\nTraining Interactions Head:\")\n",
    "#print(train_inters.head())\n",
    "\n",
    "# Load Testing Interactions\n",
    "test_inters = read('lfm-challenge', 'inter_test')\n",
    "print(\"\\nTesting Interactions Head:\")\n",
    "#print(test_inters.head())\n",
    "\n",
    "# Load Embeddings\n",
    "embedding = read('lfm-challenge', 'musicnn')\n",
    "print(\"\\nEmbeddings Head:\")\n",
    "print(embedding.head())\n",
    "\n",
    "train_interaction_matrix = inter_matr_implicit(users, items, train_inters)\n",
    "test_interaction_matrix = inter_matr_implicit(users, items, test_inters)"
   ]
  },
  {
   "cell_type": "code",
   "execution_count": 4,
   "id": "304e0c1d",
   "metadata": {},
   "outputs": [],
   "source": [
    "\n",
    "def recTopKPop(inter_matr: np.ndarray,\n",
    "               user: int,\n",
    "               top_k: int) -> np.array:\n",
    "    '''\n",
    "    inter_matr - np.ndarray, from the task 1;\n",
    "    user - int, user_id;\n",
    "    top_k - int, expected length of the resulting list;\n",
    "\n",
    "    returns - list/array, of top K popular items that the user has never seen\n",
    "              (sorted in the order of descending popularity);\n",
    "    '''\n",
    "    #items - columns\n",
    "    top_pop = None\n",
    "    pop_array = np.sum(inter_matr, axis=0)\n",
    "    unseen_pop_dict = {i:pop_array[i] for i in range(len(pop_array)) if inter_matr[user,i] == 0}\n",
    "    top_pop = sorted(unseen_pop_dict, key=unseen_pop_dict.get, reverse=True)[:top_k]\n",
    "    return np.array(top_pop)"
   ]
  },
  {
   "cell_type": "code",
   "execution_count": 5,
   "id": "355d1a8a",
   "metadata": {},
   "outputs": [
    {
     "name": "stdout",
     "output_type": "stream",
     "text": [
      "0.008551183391723085\n"
     ]
    }
   ],
   "source": [
    "train_recs_list = []\n",
    "\n",
    "for i in range(len(users)):\n",
    "    train_rec_i = recTopKPop(train_interaction_matrix, user = i, top_k = 10)\n",
    "\n",
    "    train_recs_list.append(\",\".join(map(str, train_rec_i)))\n",
    "    \n",
    "user_id_list = np.array([ i for i in range(len(users))])\n",
    "\n",
    "pop_train_df = pd.DataFrame({\"user_id\":user_id_list, \"recs\":train_recs_list})\n",
    "\n",
    "print(get_ndcg_score_sk(pop_train_df, test_interaction_matrix,10))"
   ]
  },
  {
   "cell_type": "code",
   "execution_count": 6,
   "id": "e336fa9c",
   "metadata": {},
   "outputs": [],
   "source": [
    "def recTopKPopByCountry(inter_matr: np.ndarray,\n",
    "               user: int,\n",
    "               top_k: int,\n",
    "               users: pd.DataFrame) -> np.ndarray:\n",
    "    '''\n",
    "    inter_matr - np.ndarray, from the task 1;\n",
    "    user - int, user_id;\n",
    "    top_k - int, expected length of the resulting list;\n",
    "    users: pandas Dataframe, consisting of user information for all users, requires a \"country\" column;\n",
    "\n",
    "    returns - list/array of top K popular items that the user has never seen\n",
    "              (sorted in the order of descending popularity);\n",
    "    '''\n",
    "\n",
    "    top_pop = None\n",
    "    country = users.loc[users[\"user_id\"] == user, \"country\"].values[0]\n",
    "    if country is np.nan:\n",
    "        return recTopKPop(inter_matr, user, top_k)\n",
    "    else:\n",
    "        users = users[users.country == country]\n",
    "        user_ids = users.loc[:,'user_id']\n",
    "        user_index = np.where(user_ids == user)[0][0]\n",
    "        country_inter_matr = inter_matr[user_ids]\n",
    "        top_pop = recTopKPop(country_inter_matr, user_index, top_k)\n",
    "        return top_pop"
   ]
  },
  {
   "cell_type": "code",
   "execution_count": 7,
   "id": "b4f75a1b",
   "metadata": {},
   "outputs": [
    {
     "name": "stdout",
     "output_type": "stream",
     "text": [
      "0.018999113087465942\n"
     ]
    }
   ],
   "source": [
    "train_recs_list = []\n",
    "\n",
    "for i in range(len(users)):\n",
    "    train_rec_i = recTopKPopByCountry(train_interaction_matrix, user = i, top_k = 10, users= users)\n",
    "\n",
    "    train_recs_list.append(\",\".join(map(str, train_rec_i)))\n",
    "    \n",
    "user_id_list = np.array([ i for i in range(len(users))])\n",
    "\n",
    "pop_train_df = pd.DataFrame({\"user_id\":user_id_list, \"recs\":train_recs_list})\n",
    "\n",
    "print(get_ndcg_score_sk(pop_train_df, test_interaction_matrix,10))"
   ]
  },
  {
   "cell_type": "code",
   "execution_count": 8,
   "id": "a4f4d111",
   "metadata": {},
   "outputs": [],
   "source": [
    "def recTopKPopByGender(inter_matr: np.ndarray,\n",
    "               user: int,\n",
    "               top_k: int,\n",
    "               users: pd.DataFrame) -> np.ndarray:\n",
    "    '''\n",
    "    inter_matr - np.ndarray, from the task 1;\n",
    "    user - int, user_id;\n",
    "    top_k - int, expected length of the resulting list;\n",
    "    users: pandas Dataframe, consisting of user information for all users, requires a \"country\" column;\n",
    "\n",
    "    returns - list/array of top K popular items that the user has never seen\n",
    "              (sorted in the order of descending popularity);\n",
    "    '''\n",
    "\n",
    "    top_pop = None\n",
    "    gender = users.loc[users[\"user_id\"] == user, \"gender\"].values[0]\n",
    "    if gender is np.nan:\n",
    "        return recTopKPop(inter_matr, user, top_k)\n",
    "    else:\n",
    "        users = users[users.gender == gender]\n",
    "        user_ids = users.loc[:,'user_id']\n",
    "        user_index = np.where(user_ids == user)[0][0]\n",
    "        gender_inter_matr = inter_matr[user_ids]\n",
    "        top_pop = recTopKPop(gender_inter_matr, user_index, top_k)\n",
    "        return top_pop"
   ]
  },
  {
   "cell_type": "code",
   "execution_count": 9,
   "id": "b10091c9",
   "metadata": {},
   "outputs": [
    {
     "name": "stdout",
     "output_type": "stream",
     "text": [
      "0.011769561306900796\n"
     ]
    }
   ],
   "source": [
    "train_recs_list = []\n",
    "\n",
    "for i in range(len(users)):\n",
    "    train_rec_i = recTopKPopByGender(train_interaction_matrix, user = i, top_k = 10, users= users)\n",
    "\n",
    "    train_recs_list.append(\",\".join(map(str, train_rec_i)))\n",
    "    \n",
    "user_id_list = np.array([ i for i in range(len(users))])\n",
    "\n",
    "pop_train_df = pd.DataFrame({\"user_id\":user_id_list, \"recs\":train_recs_list})\n",
    "\n",
    "print(get_ndcg_score_sk(pop_train_df, test_interaction_matrix,10))"
   ]
  },
  {
   "cell_type": "code",
   "execution_count": 10,
   "id": "a18de3e0",
   "metadata": {},
   "outputs": [
    {
     "ename": "NameError",
     "evalue": "name 'pop_test_df' is not defined",
     "output_type": "error",
     "traceback": [
      "\u001b[1;31m---------------------------------------------------------------------------\u001b[0m",
      "\u001b[1;31mNameError\u001b[0m                                 Traceback (most recent call last)",
      "Cell \u001b[1;32mIn[10], line 19\u001b[0m\n\u001b[0;32m     16\u001b[0m         \u001b[38;5;28mprint\u001b[39m(\u001b[38;5;124mf\u001b[39m\u001b[38;5;124m\"\u001b[39m\u001b[38;5;124mAll elements in column \u001b[39m\u001b[38;5;124m'\u001b[39m\u001b[38;5;132;01m{\u001b[39;00mcolumn\u001b[38;5;132;01m}\u001b[39;00m\u001b[38;5;124m'\u001b[39m\u001b[38;5;124m are equal to \u001b[39m\u001b[38;5;124m'\u001b[39m\u001b[38;5;132;01m{\u001b[39;00mvalue\u001b[38;5;132;01m}\u001b[39;00m\u001b[38;5;124m'\u001b[39m\u001b[38;5;124m.\u001b[39m\u001b[38;5;124m\"\u001b[39m)\n\u001b[0;32m     18\u001b[0m string  \u001b[38;5;241m=\u001b[39m \u001b[38;5;124m\"\u001b[39m\u001b[38;5;124m40,124,1667,146,317,866,1549,2013,343,648\u001b[39m\u001b[38;5;124m\"\u001b[39m\n\u001b[1;32m---> 19\u001b[0m \u001b[38;5;28mprint\u001b[39m(print_different_elements(\u001b[43mpop_test_df\u001b[49m, \u001b[38;5;124m'\u001b[39m\u001b[38;5;124mrecs\u001b[39m\u001b[38;5;124m'\u001b[39m, string))\n\u001b[0;32m     20\u001b[0m \u001b[38;5;66;03m#print(check_column_differs(pop_test_df, 'recs', str))\u001b[39;00m\n",
      "\u001b[1;31mNameError\u001b[0m: name 'pop_test_df' is not defined"
     ]
    }
   ],
   "source": [
    "\n",
    "def check_column_differs(df: pd.DataFrame, column: str, value) -> bool:\n",
    "    \"\"\"\n",
    "    Returns True if any element in the specified column differs from the given value.\n",
    "    \"\"\"\n",
    "    return (df[column] != value).any()\n",
    "\n",
    "def print_different_elements(df: pd.DataFrame, column: str, value):\n",
    "    \"\"\"\n",
    "    Prints the rows where the specified column differs from the given value.\n",
    "    \"\"\"\n",
    "\n",
    "    diff_rows = df[df[column] != value]\n",
    "    if not diff_rows.empty:\n",
    "        print(diff_rows)\n",
    "    else:\n",
    "        print(f\"All elements in column '{column}' are equal to '{value}'.\")\n",
    "\n",
    "string  = \"40,124,1667,146,317,866,1549,2013,343,648\"\n",
    "print(print_different_elements(pop_test_df, 'recs', string))\n",
    "#print(check_column_differs(pop_test_df, 'recs', str))"
   ]
  },
  {
   "cell_type": "code",
   "execution_count": null,
   "id": "eff8960f",
   "metadata": {},
   "outputs": [],
   "source": []
  }
 ],
 "metadata": {
  "kernelspec": {
   "display_name": "Python 3",
   "language": "python",
   "name": "python3"
  },
  "language_info": {
   "codemirror_mode": {
    "name": "ipython",
    "version": 3
   },
   "file_extension": ".py",
   "mimetype": "text/x-python",
   "name": "python",
   "nbconvert_exporter": "python",
   "pygments_lexer": "ipython3",
   "version": "3.11.9"
  }
 },
 "nbformat": 4,
 "nbformat_minor": 5
}
